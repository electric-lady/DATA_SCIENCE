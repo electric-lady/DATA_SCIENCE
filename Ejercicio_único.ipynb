{
 "cells": [
  {
   "cell_type": "code",
   "execution_count": 1,
   "metadata": {},
   "outputs": [],
   "source": [
    "#!/usr/bin/python3\n",
    "#-*-coding:utf-8 -*-\n",
    "\n",
    "import math"
   ]
  },
  {
   "cell_type": "code",
   "execution_count": 9,
   "metadata": {},
   "outputs": [],
   "source": [
    "\n",
    "class Punto:\n",
    "    def __init__(self):\n",
    "        self.x = 0\n",
    "        self.y = 0\n",
    "    \n",
    "    #constructores:\n",
    "    def set_x(self, x):\n",
    "        self.x = x\n",
    "\n",
    "    def set_y(self, y):\n",
    "        self.y = y\n",
    "\n",
    "#     def get_punto()(self):\n",
    "#         #returns tuple\n",
    "#         return (self.x, self.y)\n",
    "    #end of constructores\n",
    "\n",
    "    '''\n",
    "        The str() function returns the string version of the given object. \n",
    "        '+' concatenates strings\n",
    "        Sobreescribir el método str: el método es built inn de python\n",
    "        lo sobreescribo porque lo re-defino como un string mas largo\n",
    "    '''\n",
    "    def __str__(self):\n",
    "        #returns string (only for printing)\n",
    "        return '('+ str(self.x) + ',' + str(self.y) + ')'\n",
    "\n",
    "    def cuadrante(self):\n",
    "        if self.x != 0 and self.y != 0:\n",
    "            if self.x > 0 and self.y > 0:\n",
    "                return('1° cuadrante')\n",
    "\n",
    "            elif self.x < 0 and self.y > 0:\n",
    "                return('2° cuadrante')           \n",
    "\n",
    "            elif self.x < 0 and self.y < 0 :\n",
    "                return('3° cuadrante') \n",
    "\n",
    "            elif self.x > 0 and self.y < 0 :\n",
    "                return('4° cuadrante') \n",
    "\n",
    "        elif self.x != 0 and self.y == 0:\n",
    "                return('se sitúa sobre el eje Y') \n",
    "            \n",
    "        elif self.x == 0 and self.y != 0:\n",
    "                return('se sitúa sobre el eje X') \n",
    "            \n",
    "        elif self.x == 0 and self.y == 0:\n",
    "            return('se sitúa sobre el ORIGEN') \n",
    "\n",
    "    def vector(self, other_punto):\n",
    "        return f'El vector entre {other_punto.__str__()} y {self.__str__()} es \\\n",
    "{other_punto.x - self.x, other_punto.y - self.y}'\n",
    "    \n",
    "    def distancia(self, other_punto):\n",
    "        return  math.sqrt( (other_punto.x - self.x)**2+ (other_punto.y - self.y)**2)\n"
   ]
  },
  {
   "cell_type": "code",
   "execution_count": 10,
   "metadata": {},
   "outputs": [],
   "source": [
    "class Rectángulo():\n",
    "    def __init__(self, inicio = Punto, fin = Punto):\n",
    "        self.inicio = inicio\n",
    "        self.fin = fin\n",
    "    #constructores:\n",
    "    def base(self):\n",
    "        return abs(self.fin.y- self.inicio.y)\n",
    "    \n",
    "    def altura(self):\n",
    "        return abs(self.fin.x- self.inicio.x)\n",
    "    \n",
    "    def area(self):\n",
    "        return self.altura() * self.base()             "
   ]
  },
  {
   "cell_type": "code",
   "execution_count": 11,
   "metadata": {
    "collapsed": true
   },
   "outputs": [
    {
     "name": "stdout",
     "output_type": "stream",
     "text": [
      "A (2,3) : 1° cuadrante\n",
      "B (5,5) : 1° cuadrante\n",
      "C (-3,-1) : 3° cuadrante\n",
      "D (0,0) : se sitúa sobre el ORIGEN\n",
      "El vector entre (5,5) y (2,3) es(3, 2) y están a una distancia de: 3.605551275463989\n",
      "El vector entre (2,3) y (5,5) es(-3, -2) y están a una distancia de: 3.605551275463989\n",
      "El punto (5,5) es el mas lejano al origen a una distancia 7.0710678118654755\n",
      "rectangulo1: La base es 2, la altura es 3 y 6 el area\n"
     ]
    }
   ],
   "source": [
    "A = Punto()       \n",
    "A.set_x(2)\n",
    "A.set_y(3)\n",
    "print('A', A.__str__(), ':', A.cuadrante())\n",
    "\n",
    "B = Punto()\n",
    "B.set_x(5)\n",
    "B.set_y(5)\n",
    "print('B', B.__str__(), ':', B.cuadrante())\n",
    "\n",
    "C = Punto()       \n",
    "C.set_x(-3)\n",
    "C.set_y(-1)\n",
    "print('C', C.__str__(), ':', C.cuadrante())\n",
    "\n",
    "D = Punto()       \n",
    "D.set_x(0)\n",
    "D.set_y(0)\n",
    "print('D', D.__str__(), ':', D.cuadrante())\n",
    "\n",
    "print(A.vector(B), 'y están a una distancia de:' , A.distancia(B))\n",
    "print(B.vector(A), 'y están a una distancia de:' ,B.distancia(A))\n",
    "\n",
    "list1 = [A, B, C]\n",
    "list_dist = [ ]\n",
    "\n",
    "for obj in list1:\n",
    "    list_dist.append(obj.distancia(D))\n",
    "\n",
    "print(f'El punto '+ list1[list_dist.index(max(list_dist))].__str__()+ f' es el mas lejano al origen \\\n",
    "a una distancia {max(list_dist)}')\n",
    "\n",
    "rectangulo1 = Rectángulo(A, B)\n",
    "print(f'rectangulo1: La base es {rectangulo1.base()}, la altura es {rectangulo1.altura()} y {rectangulo1.area()} el area')\n",
    "\n",
    "\n",
    "    "
   ]
  }
 ],
 "metadata": {
  "kernelspec": {
   "display_name": "Python 3",
   "language": "python",
   "name": "python3"
  },
  "language_info": {
   "codemirror_mode": {
    "name": "ipython",
    "version": 3
   },
   "file_extension": ".py",
   "mimetype": "text/x-python",
   "name": "python",
   "nbconvert_exporter": "python",
   "pygments_lexer": "ipython3",
   "version": "3.8.3"
  }
 },
 "nbformat": 4,
 "nbformat_minor": 4
}
